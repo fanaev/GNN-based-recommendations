{
 "cells": [
  {
   "cell_type": "markdown",
   "metadata": {},
   "source": [
    "# Презентация примеров использования модулей, классов, функций, применяемых в ходе данного курсового проекта."
   ]
  },
  {
   "cell_type": "code",
   "execution_count": 28,
   "metadata": {},
   "outputs": [],
   "source": [
    "from model import *\n",
    "from utils.builder import PandasGraphBuilder\n",
    "import pandas as pd\n",
    "import numpy as np"
   ]
  },
  {
   "cell_type": "code",
   "execution_count": 29,
   "metadata": {},
   "outputs": [],
   "source": [
    "def random_dates(start, end, n=10):\n",
    "\n",
    "    start_u = start.value//10**9\n",
    "    end_u = end.value//10**9\n",
    "\n",
    "    return pd.to_datetime(np.random.randint(start_u, end_u, n), unit='s')"
   ]
  },
  {
   "cell_type": "markdown",
   "metadata": {},
   "source": [
    "## Представление данных в виде графа"
   ]
  },
  {
   "cell_type": "markdown",
   "metadata": {},
   "source": [
    "### Генерируем данные"
   ]
  },
  {
   "cell_type": "code",
   "execution_count": 30,
   "metadata": {},
   "outputs": [],
   "source": [
    "articles = pd.DataFrame({'article_id': np.arange(1,101), 'Цвет': np.random.randint(1,10, 100), 'Материал':np.random.randint(1,5, 100)})\n",
    "\n",
    "start = pd.to_datetime('2015-01-01')\n",
    "end = pd.to_datetime('2018-01-01')\n",
    "transactions = pd.DataFrame({\n",
    "    'customer_id': np.random.randint(1,2000,2000), \n",
    "    'article_id': np.random.randint(1, 101, 2000),\n",
    "    't_dat': pd.date_range(start, end, 2000).values.astype('datetime64[s]').astype('int64')\n",
    "    })\n",
    "\n",
    "customers = pd.DataFrame({'customer_id': transactions['customer_id'].drop_duplicates()})"
   ]
  },
  {
   "cell_type": "code",
   "execution_count": 31,
   "metadata": {},
   "outputs": [
    {
     "data": {
      "text/plain": [
       "1250"
      ]
     },
     "execution_count": 31,
     "metadata": {},
     "output_type": "execute_result"
    }
   ],
   "source": [
    "len(customers)"
   ]
  },
  {
   "cell_type": "markdown",
   "metadata": {},
   "source": [
    "### Создание графа из pd.DataFrame с помощью модуля utils.builder"
   ]
  },
  {
   "cell_type": "code",
   "execution_count": 32,
   "metadata": {},
   "outputs": [
    {
     "data": {
      "text/plain": [
       "Graph(num_nodes={'article': 100, 'customer': 1250},\n",
       "      num_edges={('article', 'bought-by', 'customer'): 2000, ('customer', 'bought', 'article'): 2000},\n",
       "      metagraph=[('article', 'customer', 'bought-by'), ('customer', 'article', 'bought')])"
      ]
     },
     "execution_count": 32,
     "metadata": {},
     "output_type": "execute_result"
    }
   ],
   "source": [
    "graph_builder = PandasGraphBuilder()\n",
    "graph_builder.add_entities(customers, 'customer_id', 'customer')\n",
    "graph_builder.add_entities(articles, 'article_id', 'article')\n",
    "graph_builder.add_binary_relations(transactions, 'customer_id', 'article_id', 'bought')\n",
    "graph_builder.add_binary_relations(transactions, 'article_id', 'customer_id', 'bought-by')\n",
    "g = graph_builder.build();g"
   ]
  },
  {
   "cell_type": "markdown",
   "metadata": {},
   "source": [
    "### Добавление признаков вершинам и ребрам"
   ]
  },
  {
   "cell_type": "code",
   "execution_count": 33,
   "metadata": {},
   "outputs": [
    {
     "data": {
      "text/plain": [
       "{'article': tensor([4, 6, 8, 5, 3, 9, 9, 2, 1, 7, 1, 7, 5, 3, 6, 8, 9, 9, 2, 2, 2, 4, 6, 7,\n",
       "         9, 3, 2, 3, 9, 7, 9, 9, 2, 3, 7, 7, 5, 1, 5, 9, 9, 1, 4, 2, 9, 7, 2, 6,\n",
       "         9, 5, 3, 6, 5, 3, 6, 4, 5, 7, 8, 7, 7, 8, 9, 4, 9, 8, 6, 9, 3, 8, 5, 6,\n",
       "         4, 4, 2, 5, 3, 4, 5, 7, 2, 9, 6, 2, 6, 7, 9, 6, 6, 7, 3, 1, 3, 9, 2, 1,\n",
       "         9, 7, 5, 6])}"
      ]
     },
     "execution_count": 33,
     "metadata": {},
     "output_type": "execute_result"
    }
   ],
   "source": [
    "for col in articles.columns:\n",
    "    if col == 'article_id':\n",
    "        continue\n",
    "    else:\n",
    "        g.nodes['article'].data[col] = torch.LongTensor(articles[col].values)\n",
    "\n",
    "g.edges['bought'].data['t_dat'] = torch.LongTensor(transactions['t_dat'].values)\n",
    "g.edges['bought-by'].data['t_dat'] = torch.LongTensor(transactions['t_dat'].values)\n",
    "g.ndata['Цвет']"
   ]
  },
  {
   "cell_type": "code",
   "execution_count": 34,
   "metadata": {},
   "outputs": [],
   "source": [
    "textset = torchtext.legacy.data.Dataset([], {})"
   ]
  },
  {
   "cell_type": "markdown",
   "metadata": {},
   "source": [
    "## Сэмплирование, создание датасета c помощью модуля utils.sampler"
   ]
  },
  {
   "cell_type": "code",
   "execution_count": 35,
   "metadata": {},
   "outputs": [],
   "source": [
    "args = {\n",
    "    'dataset': g,\n",
    "    'random-walk-length': 2,\n",
    "    'random-walk-restart-prob': 0.5,\n",
    "    'num-random-walks': 10, \n",
    "    'num-neighbors': 3,\n",
    "    'num-layers': 2,\n",
    "    'hidden-dims': 64,\n",
    "    'batch-size': 16,\n",
    "    'device': 'cpu',\n",
    "    'num-epochs': 5,\n",
    "    'batches-per-epoch': 200,\n",
    "    'num-workers': 0,\n",
    "    'lr': 1e-6,\n",
    "    'k': 3\n",
    "}\n",
    "device = args['device']"
   ]
  },
  {
   "cell_type": "markdown",
   "metadata": {},
   "source": [
    "### Генератор Батчей. Батчм включают в себя heads - N случайных узлов, tails - N cоседей heads, полученных с помощью случайного блуждания, neg_tails - негативные узлы (не соседи), отобранные случайно, т.к для больших графов вероятность того, что случайно отобранная вершина окажется негативным примером, приблизительно равна 100%. На полученных данных будет считаться функция потерь."
   ]
  },
  {
   "cell_type": "code",
   "execution_count": 36,
   "metadata": {},
   "outputs": [
    {
     "data": {
      "text/plain": [
       "(tensor([93, 56, 22, 13, 94, 85,  9, 55, 50,  0,  8, 55, 66, 57, 84, 59]),\n",
       " tensor([93, 56, 22, 13, 94, 36,  9, 55, 50,  0,  8, 55, 86, 57, 18, 59]),\n",
       " tensor([48, 32, 45, 88, 86, 91,  6,  4, 50,  7, 70, 29, 10, 72, 88, 22]))"
      ]
     },
     "execution_count": 36,
     "metadata": {},
     "output_type": "execute_result"
    }
   ],
   "source": [
    "batch_sampler = sampler_module.ItemToItemBatchSampler(\n",
    "        g, 'customer', 'article', args['batch-size'])\n",
    "next(batch_sampler.__iter__())"
   ]
  },
  {
   "cell_type": "markdown",
   "metadata": {},
   "source": [
    "### Sampler создает pos_graph и neg_graph - графы, узлы которого являются heads, tails, neg_tails. В pos_graph узлы, которые являются соседями, соединены ребрами, в neg_graph наоборот. Так же sampler создает dgl.Block - специальная структура данных/граф, созданная для передачи сообщений между узлами. "
   ]
  },
  {
   "cell_type": "code",
   "execution_count": 37,
   "metadata": {},
   "outputs": [],
   "source": [
    "neighbor_sampler = sampler_module.NeighborSampler(\n",
    "    g, 'customer', 'article', args['random-walk-length'],\n",
    "    args['random-walk-restart-prob'], args['num-random-walks'], args['num-neighbors'],\n",
    "    args['num-layers'])\n",
    "collator = sampler_module.PinSAGECollator(neighbor_sampler, g, 'article', textset)"
   ]
  },
  {
   "cell_type": "code",
   "execution_count": 38,
   "metadata": {},
   "outputs": [],
   "source": [
    "dataloader = DataLoader(\n",
    "        batch_sampler,\n",
    "        collate_fn=collator.collate_train,\n",
    "        num_workers=args['num-workers'])\n",
    "\n",
    "dataloader_test = DataLoader(\n",
    "        torch.arange(g.number_of_nodes('article')),\n",
    "        batch_size=args['batch-size'],\n",
    "        collate_fn=collator.collate_test,\n",
    "        num_workers=args['num-workers'])"
   ]
  },
  {
   "cell_type": "code",
   "execution_count": 39,
   "metadata": {},
   "outputs": [],
   "source": [
    "\"\"\"\n",
    "batch = [next(batch_sampler.__iter__())]\n",
    "collator.collate_train(batch)\n",
    "\"\"\"\n",
    "\n",
    "dataloader_it = iter(dataloader)\n",
    "pos_graph, neg_graph, blocks = next(dataloader_it)"
   ]
  },
  {
   "cell_type": "code",
   "execution_count": 40,
   "metadata": {},
   "outputs": [
    {
     "data": {
      "text/plain": [
       "Graph(num_nodes=31, num_edges=16,\n",
       "      ndata_schemes={'_ID': Scheme(shape=(), dtype=torch.int64)}\n",
       "      edata_schemes={})"
      ]
     },
     "execution_count": 40,
     "metadata": {},
     "output_type": "execute_result"
    }
   ],
   "source": [
    "pos_graph"
   ]
  },
  {
   "cell_type": "code",
   "execution_count": 41,
   "metadata": {},
   "outputs": [
    {
     "data": {
      "text/plain": [
       "Graph(num_nodes=31, num_edges=16,\n",
       "      ndata_schemes={'_ID': Scheme(shape=(), dtype=torch.int64)}\n",
       "      edata_schemes={})"
      ]
     },
     "execution_count": 41,
     "metadata": {},
     "output_type": "execute_result"
    }
   ],
   "source": [
    "neg_graph"
   ]
  },
  {
   "cell_type": "code",
   "execution_count": 42,
   "metadata": {},
   "outputs": [
    {
     "data": {
      "text/plain": [
       "[Block(num_src_nodes=85, num_dst_nodes=60, num_edges=170),\n",
       " Block(num_src_nodes=60, num_dst_nodes=31, num_edges=82)]"
      ]
     },
     "execution_count": 42,
     "metadata": {},
     "output_type": "execute_result"
    }
   ],
   "source": [
    "blocks"
   ]
  },
  {
   "cell_type": "markdown",
   "metadata": {},
   "source": [
    "## Обучение модели, получение новых представлений вершин"
   ]
  },
  {
   "cell_type": "markdown",
   "metadata": {},
   "source": [
    "### Определение модели и оптимизатора"
   ]
  },
  {
   "cell_type": "code",
   "execution_count": 43,
   "metadata": {},
   "outputs": [],
   "source": [
    "model = PinSAGEModel(g, 'article', textset, args['hidden-dims'], args['num-layers']).to(device)\n",
    "opt = torch.optim.SGD(model.parameters(), lr=args['lr'])"
   ]
  },
  {
   "cell_type": "markdown",
   "metadata": {},
   "source": [
    "### Обучение модели"
   ]
  },
  {
   "cell_type": "code",
   "execution_count": 44,
   "metadata": {},
   "outputs": [
    {
     "name": "stderr",
     "output_type": "stream",
     "text": [
      "  0%|          | 0/200 [00:00<?, ?it/s]/Library/Frameworks/Python.framework/Versions/3.9/lib/python3.9/site-packages/torch/autocast_mode.py:141: UserWarning: User provided device_type of 'cuda', but CUDA is not available. Disabling\n",
      "  warnings.warn('User provided device_type of \\'cuda\\', but CUDA is not available. Disabling')\n",
      "100%|██████████| 200/200 [00:04<00:00, 43.58it/s]\n"
     ]
    },
    {
     "name": "stdout",
     "output_type": "stream",
     "text": [
      "Epo 1: 0.43159329069778324\n"
     ]
    },
    {
     "name": "stderr",
     "output_type": "stream",
     "text": [
      "100%|██████████| 200/200 [00:04<00:00, 47.19it/s]\n"
     ]
    },
    {
     "name": "stdout",
     "output_type": "stream",
     "text": [
      "Epo 2: 0.4660799918882549\n"
     ]
    },
    {
     "name": "stderr",
     "output_type": "stream",
     "text": [
      "100%|██████████| 200/200 [00:03<00:00, 64.29it/s]\n"
     ]
    },
    {
     "name": "stdout",
     "output_type": "stream",
     "text": [
      "Epo 3: 0.4554502713307738\n"
     ]
    },
    {
     "name": "stderr",
     "output_type": "stream",
     "text": [
      "100%|██████████| 200/200 [00:03<00:00, 63.05it/s]\n"
     ]
    },
    {
     "name": "stdout",
     "output_type": "stream",
     "text": [
      "Epo 4: 0.43956402331590655\n"
     ]
    },
    {
     "name": "stderr",
     "output_type": "stream",
     "text": [
      "100%|██████████| 200/200 [00:03<00:00, 65.42it/s]"
     ]
    },
    {
     "name": "stdout",
     "output_type": "stream",
     "text": [
      "Epo 5: 0.46868302853778004\n"
     ]
    },
    {
     "name": "stderr",
     "output_type": "stream",
     "text": [
      "\n"
     ]
    }
   ],
   "source": [
    "for epoch_id in range(args['num-epochs']):\n",
    "    loss_batch = []\n",
    "    model.train()\n",
    "    for batch_id in tqdm.trange(args['batches-per-epoch']):\n",
    "        pos_graph, neg_graph, blocks = next(dataloader_it)            \n",
    "        for i in range(len(blocks)):\n",
    "            blocks[i] = blocks[i].to(device)\n",
    "        pos_graph = pos_graph.to(device)\n",
    "        neg_graph = neg_graph.to(device)\n",
    "        loss = model(pos_graph, neg_graph, blocks).mean()\n",
    "        loss_batch.append(loss.item())\n",
    "        opt.zero_grad()\n",
    "        loss.backward()\n",
    "        opt.step()\n",
    "    print(f'Epo {epoch_id + 1}: {np.mean(loss_batch)}')"
   ]
  },
  {
   "cell_type": "markdown",
   "metadata": {},
   "source": [
    "### Получение новых представлений вершин"
   ]
  },
  {
   "cell_type": "code",
   "execution_count": 45,
   "metadata": {},
   "outputs": [],
   "source": [
    "with torch.no_grad():\n",
    "        item_batches = torch.arange(g.number_of_nodes('article')).split(args['batch-size'])\n",
    "        h_item_batches = []\n",
    "        for blocks in dataloader_test:\n",
    "            for i in range(len(blocks)):\n",
    "                blocks[i] = blocks[i].to(device)\n",
    "\n",
    "            h_item_batches.append(model.get_repr(blocks))\n",
    "        h_item = torch.cat(h_item_batches, 0)"
   ]
  },
  {
   "cell_type": "markdown",
   "metadata": {},
   "source": [
    "### Рекомендации"
   ]
  },
  {
   "cell_type": "code",
   "execution_count": 46,
   "metadata": {},
   "outputs": [],
   "source": [
    "def get_recommendations(h_item, K):\n",
    "    recommendations = []\n",
    "    for i in range(len(h_item)):\n",
    "        dist = h_item[i] @ h_item.T\n",
    "        dist[i] = -np.inf\n",
    "        recommendations.append(torch.topk(dist, K)[1])\n",
    "    return torch.stack(recommendations)"
   ]
  },
  {
   "cell_type": "code",
   "execution_count": 47,
   "metadata": {},
   "outputs": [
    {
     "data": {
      "text/plain": [
       "tensor([[72, 77, 42],\n",
       "        [82, 36, 49],\n",
       "        [58, 61, 69],\n",
       "        [70, 98, 78],\n",
       "        [25, 33, 53]])"
      ]
     },
     "execution_count": 47,
     "metadata": {},
     "output_type": "execute_result"
    }
   ],
   "source": [
    "recomendations = get_recommendations(h_item, 3); recomendations[:5]"
   ]
  },
  {
   "cell_type": "code",
   "execution_count": 48,
   "metadata": {},
   "outputs": [
    {
     "data": {
      "text/plain": [
       "(tensor([ 0,  5,  6,  1,  7,  8,  2,  9, 10,  3, 11, 12,  4, 13, 14]),\n",
       " tensor([0, 0, 0, 1, 1, 1, 2, 2, 2, 3, 3, 3, 4, 4, 4]))"
      ]
     },
     "execution_count": 48,
     "metadata": {},
     "output_type": "execute_result"
    }
   ],
   "source": [
    "neighbor_sampler.sample_blocks([0,1,2,3,4])[-1].all_edges()"
   ]
  },
  {
   "cell_type": "code",
   "execution_count": 49,
   "metadata": {},
   "outputs": [
    {
     "data": {
      "text/plain": [
       "article_id    1\n",
       "Цвет          4\n",
       "Материал      1\n",
       "Name: 0, dtype: int64"
      ]
     },
     "execution_count": 49,
     "metadata": {},
     "output_type": "execute_result"
    }
   ],
   "source": [
    "articles.iloc[0]"
   ]
  },
  {
   "cell_type": "code",
   "execution_count": 52,
   "metadata": {},
   "outputs": [
    {
     "data": {
      "text/plain": [
       "article_id    73\n",
       "Цвет           4\n",
       "Материал       1\n",
       "Name: 72, dtype: int64"
      ]
     },
     "execution_count": 52,
     "metadata": {},
     "output_type": "execute_result"
    }
   ],
   "source": [
    "articles.iloc[72]"
   ]
  },
  {
   "cell_type": "code",
   "execution_count": null,
   "metadata": {},
   "outputs": [],
   "source": []
  }
 ],
 "metadata": {
  "interpreter": {
   "hash": "aee8b7b246df8f9039afb4144a1f6fd8d2ca17a180786b69acc140d282b71a49"
  },
  "kernelspec": {
   "display_name": "Python 3.9.5 64-bit",
   "language": "python",
   "name": "python3"
  },
  "language_info": {
   "codemirror_mode": {
    "name": "ipython",
    "version": 3
   },
   "file_extension": ".py",
   "mimetype": "text/x-python",
   "name": "python",
   "nbconvert_exporter": "python",
   "pygments_lexer": "ipython3",
   "version": "3.9.5"
  },
  "orig_nbformat": 4
 },
 "nbformat": 4,
 "nbformat_minor": 2
}
